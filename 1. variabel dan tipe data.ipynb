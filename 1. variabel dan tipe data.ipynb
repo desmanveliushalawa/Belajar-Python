{
 "cells": [
  {
   "cell_type": "markdown",
   "metadata": {},
   "source": [
    "Variabel adalah wadah untuk menyimpan nilai atau data. Dibuat dengan assignment operator (=) dan dapat diakses dengan menggunakan tanda titik (.) atau tanda kurung ().\n",
    "1. Tanda kurung \"[]\" digunakan untuk membuat array, yaitu kumpulan nilai yang dapat diakses dengan indeks. contohnya elemen dalam list, tuple, atau nilai dalam dictionary.\n",
    "2. Tanda tiitk (.) digunkan untuk mengakses atribut atau nilai dari sebuah objek.\n",
    "3. Tanda titik (.) diikuti tanda kurung (()) digunakan untuk mengakses nilai dari sebuah objek yang merupakan sebuah fungsi.\n",
    "\n",
    "contoh variabel sebagai berikut."
   ]
  },
  {
   "cell_type": "code",
   "execution_count": 11,
   "metadata": {},
   "outputs": [
    {
     "name": "stdout",
     "output_type": "stream",
     "text": [
      "Hallo, nama saya Desman, saya berumur 21 tahun\n"
     ]
    }
   ],
   "source": [
    "nama = \"Desman\"\n",
    "umur = 21\n",
    "\n",
    "print(f\"Hallo, nama saya {nama}, saya berumur {umur} tahun\")"
   ]
  },
  {
   "cell_type": "markdown",
   "metadata": {},
   "source": [
    "### Jenis-jenis tipe data\n",
    "#### 1. Integer(int)\n",
    "Ini adalah bilangan bulat, bisa negatif atau positif. Integer ini memiliki operasi (+,-,*,/,//(flor division),**(pangkat))\n"
   ]
  },
  {
   "cell_type": "code",
   "execution_count": 12,
   "metadata": {},
   "outputs": [
    {
     "name": "stdout",
     "output_type": "stream",
     "text": [
      "13\n",
      "3\n",
      "1000\n",
      "7\n"
     ]
    }
   ],
   "source": [
    "x = 10\n",
    "y = 3\n",
    "print(x + y)  # Output: 13\n",
    "print(x // y) # Output: 3 (pembagian bulat tanpa menamilkan sisa)\n",
    "print(x**y)\n",
    "print(x-y)\n"
   ]
  },
  {
   "cell_type": "markdown",
   "metadata": {},
   "source": []
  },
  {
   "cell_type": "markdown",
   "metadata": {},
   "source": [
    "#### 2.  Float (float)\n",
    "Float adalah tipe data yang digunakan untuk menyimpan bilangan desimal. Contoh: 3.3 dan dapat di operiaskan dengan integer.\n"
   ]
  },
  {
   "cell_type": "code",
   "execution_count": 13,
   "metadata": {},
   "outputs": [
    {
     "name": "stdout",
     "output_type": "stream",
     "text": [
      "31.98\n"
     ]
    }
   ],
   "source": [
    "harga = 15.99\n",
    "print(harga * 2)  "
   ]
  },
  {
   "cell_type": "markdown",
   "metadata": {},
   "source": [
    "#### 3. String (str)\n",
    "String adalah jenis tipe data karakter yang dapat digunakan untuk menyimpan teks. Contoh: \"Hello, World!\""
   ]
  },
  {
   "cell_type": "code",
   "execution_count": 18,
   "metadata": {},
   "outputs": [
    {
     "name": "stdout",
     "output_type": "stream",
     "text": [
      "Halo\n"
     ]
    }
   ],
   "source": [
    "nama = \"Alice\"\n",
    "greeting = \"Halo, \" + nama + \"!\"  # Concatenation\n",
    "print(greeting[0:4])              # Disini menggunakan teknik slicing, yaitu baris akan mencetak elemen dengan indeks 0, 1, 2, dan 3.  # Output: \"Halo"
   ]
  },
  {
   "cell_type": "markdown",
   "metadata": {},
   "source": [
    "#### 4. Boolean (bool)\n",
    "Nilai True atau False.\n",
    "Digunakan untuk logika/kondisi. Tipe data Boolean digunakan untuk merepresentasikan nilai kebenaran (benar atau salah)."
   ]
  },
  {
   "cell_type": "code",
   "execution_count": null,
   "metadata": {},
   "outputs": [],
   "source": [
    "is_active = True\n",
    "print(10 > 9)  # Output: True"
   ]
  },
  {
   "cell_type": "markdown",
   "metadata": {},
   "source": [
    "#### 5. Tipe Data Koleksi"
   ]
  },
  {
   "cell_type": "markdown",
   "metadata": {},
   "source": [
    "##### a. List (list)\n",
    "Ordered, mutable (bisa diubah), boleh berisi tipe data berbeda.\n",
    "\n",
    "Indexing: Dimulai dari 0."
   ]
  },
  {
   "cell_type": "code",
   "execution_count": 45,
   "metadata": {},
   "outputs": [
    {
     "name": "stdout",
     "output_type": "stream",
     "text": [
      "apel\n",
      "['Jeruk', 'apel', 'semangka', 'jambu', 'Durian', 'mangga', 'nanas']\n",
      "['roni', 'dimas']\n",
      "['roni', 'dimas', 'agus', 'Raimond', 'Rizki', 'Raja', 'Aris']\n"
     ]
    }
   ],
   "source": [
    "buah = [\"Jeruk\", \"apel\", \"mangga\"]\n",
    "buah.append(\"nanas\")  #menambah elemen nanas\n",
    "print(buah[1])  #mengeluarkan nilai dari list buah dengan indeks 1\n",
    "buah.insert(2, \"semangka\")\n",
    "buah[3:3]= [\"jambu\", \"Durian\"]  #mengganti nilai di indeks 3 dengan jambu dan durian menggunakan slicing\n",
    "print(buah)  #mengeluarkan nilai dari list buah\n",
    "\n",
    "\n",
    "nama = [\"roni\", \"dimas\"]\n",
    "nama.append(\"agus\")\n",
    "print(nama[0:2])\n",
    "nama.extend([\"Aris\"])\n",
    "nama.insert(3,\"Raimond\")\n",
    "nama[4:4]= [\"Rizki\", \"Raja\"]\n",
    "print(nama)  #mengeluarkan nilai dari list nama\n"
   ]
  },
  {
   "cell_type": "markdown",
   "metadata": {},
   "source": [
    "##### b. Dictionary (dict)\n",
    "Unordered, key-value pairs.\n",
    "Key harus unik dan immutable (biasanya str/int).\n",
    "\n",
    "Bayangkan sebuah kamus sungguhan. Di kamus, setiap kata memiliki definisi atau penjelasan yang terkait. Dalam Python, dictionary bekerja dengan cara yang mirip. Dictionary adalah struktur data yang menyimpan pasangan \"kunci\" (key) dan \"nilai\" (value).\n",
    "\n",
    "Kunci (Key): Seperti kata dalam kamus, kunci adalah pengenal unik untuk setiap nilai.\n",
    "Nilai (Value): Seperti definisi kata, nilai adalah informasi yang terkait dengan kunci."
   ]
  },
  {
   "cell_type": "code",
   "execution_count": 61,
   "metadata": {},
   "outputs": [
    {
     "name": "stdout",
     "output_type": "stream",
     "text": [
      "Desman\n",
      "Nama: Desman, Usia: 21, Asal: Sumatera Utara\n",
      "mangga\n",
      "Jenis-Jenis Buah : apel, mangga, pisang\n"
     ]
    }
   ],
   "source": [
    "data_siswa = {\n",
    "    \"nama\" : \"Desman\", #dalam contoh ini, \"nama\" adalah kunci dan \"Desman\" adalah nilai\n",
    "    \"Usia\" : 21,\n",
    "    \"Asal\" : \"Sumatera Utara\"\n",
    "}\n",
    "print(data_siswa[\"nama\"])\n",
    "print(f\"Nama: {data_siswa['nama']}, Usia: {data_siswa['Usia']}, Asal: {data_siswa['Asal']}\")\n",
    "\n",
    "\n",
    "buah = {\n",
    "    1 : \"apel\",\n",
    "    2 : \"mangga\",\n",
    "    3 : \"pisang\"\n",
    "\n",
    "}\n",
    "\n",
    "print(buah[2])\n",
    "print(f\"Jenis-Jenis Buah : {buah[1]}, {buah[2]}, {buah[3]}\")"
   ]
  },
  {
   "cell_type": "markdown",
   "metadata": {},
   "source": [
    "##### c. Tupple\n",
    "Tuple adalah tipe data koleksi yang ordered (terurut) dan immutable (tidak bisa diubah setelah dibuat).\n",
    "\n",
    "Ditulis dengan tanda kurung () atau tanpa kurung (packing).\n"
   ]
  },
  {
   "cell_type": "code",
   "execution_count": null,
   "metadata": {},
   "outputs": [
    {
     "name": "stdout",
     "output_type": "stream",
     "text": [
      "(10, 20, 3.9, 'Timur Laut')\n",
      "(10, 20, 3.9, 'Timur Laut')\n",
      "3\n",
      "23.333333333333332\n"
     ]
    }
   ],
   "source": [
    "koordinat = (10, 20, 3.9, \"Timur Laut\") \n",
    "warna = 'merah', 'hijau', 'biru'  # Packing tuple (tanpa kurung)\n",
    "print(koordinat)  # (10, 20)\n",
    "print(koordinat)\n",
    "\n",
    "#contoh lain\n",
    "\n",
    "jumlah_barang = (20,20,30)\n",
    "\n",
    "\n",
    "print(len(jumlah_barang))\n",
    "rata_rata = sum(jumlah_barang)/len(jumlah_barang)\n",
    "print(rata_rata)\n",
    "\n"
   ]
  },
  {
   "cell_type": "markdown",
   "metadata": {},
   "source": [
    "#### Konversi Tipe Data (Casting)"
   ]
  },
  {
   "cell_type": "code",
   "execution_count": 62,
   "metadata": {},
   "outputs": [
    {
     "name": "stdout",
     "output_type": "stream",
     "text": [
      "10.0\n",
      "True\n",
      "['h', 'e', 'l', 'l', 'o']\n"
     ]
    }
   ],
   "source": [
    "angka_str = \"123\"\n",
    "angka_int = int(angka_str)  # Konversi ke integer\n",
    "\n",
    "print(float(10))      # Output: 10.0\n",
    "print(str(True))      # Output: \"True\"\n",
    "print(list(\"hello\"))  # Output: ['h', 'e', 'l', 'l', 'o']"
   ]
  },
  {
   "cell_type": "markdown",
   "metadata": {},
   "source": [
    "##### Cek tipe data"
   ]
  },
  {
   "cell_type": "code",
   "execution_count": null,
   "metadata": {},
   "outputs": [
    {
     "name": "stdout",
     "output_type": "stream",
     "text": [
      "<class 'int'>\n",
      "<class 'str'>\n"
     ]
    }
   ],
   "source": [
    "print((type(10)))\n",
    "print((type(\"BUKU\")))  "
   ]
  },
  {
   "cell_type": "markdown",
   "metadata": {},
   "source": [
    "### Mini Project\n"
   ]
  },
  {
   "cell_type": "code",
   "execution_count": null,
   "metadata": {},
   "outputs": [
    {
     "name": "stdout",
     "output_type": "stream",
     "text": [
      "Total pendapatan : 800000\n"
     ]
    }
   ],
   "source": [
    "# Variabel dan tipe data\n",
    "produk = [\"Baju\", \"Bunga\", \"Buku\"] # ini adalah list\n",
    "harga = [10000, 5000, 20000] # ini adalah list\n",
    "terjual = [10, 20, 30] # ini adalah list\n",
    "\n",
    "total_penjualan = sum([harga [i] * terjual[i] for i in range (len(produk))]) # ini adalah list comprehension\n",
    "print(f\"Total pendapatan : {total_penjualan }\") # ini adalah f-string\n",
    "\n",
    "\n"
   ]
  },
  {
   "cell_type": "code",
   "execution_count": 97,
   "metadata": {},
   "outputs": [
    {
     "name": "stdout",
     "output_type": "stream",
     "text": [
      "1000000.0 IDR = 66.66666666666667 USD\n"
     ]
    }
   ],
   "source": [
    "## Konversi mata uang\n",
    "kurs_usd = 15000\n",
    "jumlah_idr = float(input(\"Masukkan jumlah IDR: \"))\n",
    "jumlah_usd = jumlah_idr / kurs_usd\n",
    "print(f\"{jumlah_idr} IDR = {jumlah_usd} USD\")\n"
   ]
  },
  {
   "cell_type": "markdown",
   "metadata": {},
   "source": [
    "## Latihan\n",
    "1. Buat dictionary berisi data diri Anda (nama, hobi, dll).\n",
    "2. Konversi list [1, 2, 3] menjadi tuple."
   ]
  },
  {
   "cell_type": "code",
   "execution_count": 1,
   "metadata": {},
   "outputs": [
    {
     "name": "stdout",
     "output_type": "stream",
     "text": [
      "Perkenalkan, data diri saya : Desman, ('NIAS', {'Asrama TB 3'})\n",
      "(1, 2, 3)\n"
     ]
    }
   ],
   "source": [
    "#1\n",
    "data_diri = {\n",
    "\n",
    "    \"nama\" : \"Desman\",\n",
    "    \"Asal\" : \"NIAS\",\n",
    "    \"Alamat\" : \"Asrama TB 3\"\n",
    "}\n",
    "print(f\"Perkenalkan, data diri saya : {data_diri[\"nama\"]}, {data_diri[\"Asal\"], {data_diri[\"Alamat\"]}}\")\n",
    "\n",
    "\n",
    "#2\n",
    "listsaya = [1,2,3]\n",
    "tuplesaya = tuple(listsaya)\n",
    "print(tuplesaya)"
   ]
  }
 ],
 "metadata": {
  "kernelspec": {
   "display_name": "Python 3",
   "language": "python",
   "name": "python3"
  },
  "language_info": {
   "codemirror_mode": {
    "name": "ipython",
    "version": 3
   },
   "file_extension": ".py",
   "mimetype": "text/x-python",
   "name": "python",
   "nbconvert_exporter": "python",
   "pygments_lexer": "ipython3",
   "version": "3.12.5"
  }
 },
 "nbformat": 4,
 "nbformat_minor": 2
}
