{
 "cells": [
  {
   "cell_type": "markdown",
   "id": "aed63be0",
   "metadata": {},
   "source": [
    "## If-elif-else,  dan loop(for/while)\n",
    "- **If-else**: digunakan untuk memilih antara dua kondisi.\n",
    "- **While**: digunakan untuk melakukan perulangan sampai kondisi tertentu terpenuhi\n",
    "- **Loop**: digunakan untuk melakukan perulangan berulang-ulang sampai kondisi yang diinginkan\n",
    "- **For**: digunakan untuk melakukan perulangan dengan batasan tertentu"
   ]
  },
  {
   "cell_type": "code",
   "execution_count": 1,
   "id": "9d6da982",
   "metadata": {},
   "outputs": [
    {
     "name": "stdout",
     "output_type": "stream",
     "text": [
      "Kategori pelanggan: Gold\n"
     ]
    }
   ],
   "source": [
    "#contoh untuk if else\n",
    "#struktur dasar\n",
    "#if kondisi1:\n",
    "    # Eksekusi jika kondisi1 True\n",
    "#elif kondisi2:\n",
    "    # Eksekusi jika kondisi2 True\n",
    "#else:\n",
    "    # Eksekusi jika semua kondisi False\n",
    "\n",
    "\n",
    "total_belanja = 1_200_000\n",
    "\n",
    "if total_belanja > 2_000_000:\n",
    "    kategori = \"Premium\"\n",
    "elif total_belanja > 1_000_000:\n",
    "    kategori = \"Gold\"  # Ini akan dieksekusi\n",
    "else:\n",
    "    kategori = \"Silver\"\n",
    "\n",
    "print(f\"Kategori pelanggan: {kategori}\")"
   ]
  },
  {
   "cell_type": "markdown",
   "id": "0b21f98c",
   "metadata": {},
   "source": [
    "Soalnya adalah, kita memiliki daftar barang yang akan di berikan diskon. setiap pelanggan memiliki diskon yang berbeda tergantung s usia.\n",
    "\n",
    "sabun = 1000\n",
    "baju = 2000\n",
    "buku = 500\n",
    "\n",
    "usia >= 18 dan usia <= 25 diskon 5%\n",
    "usia >= 26 dan usia <= 35 diskon 10%\n",
    "\n"
   ]
  },
  {
   "cell_type": "code",
   "execution_count": 2,
   "id": "5ab28b33",
   "metadata": {},
   "outputs": [
    {
     "ename": "ValueError",
     "evalue": "invalid literal for int() with base 10: ''",
     "output_type": "error",
     "traceback": [
      "\u001b[1;31m---------------------------------------------------------------------------\u001b[0m",
      "\u001b[1;31mValueError\u001b[0m                                Traceback (most recent call last)",
      "Cell \u001b[1;32mIn[2], line 40\u001b[0m\n\u001b[0;32m     37\u001b[0m     \u001b[38;5;28mprint\u001b[39m(\u001b[38;5;124mf\u001b[39m\u001b[38;5;124m\"\u001b[39m\u001b[38;5;124mTotal Pembayaran: Rp \u001b[39m\u001b[38;5;132;01m{\u001b[39;00mtotal\u001b[38;5;132;01m:\u001b[39;00m\u001b[38;5;124m.0f\u001b[39m\u001b[38;5;132;01m}\u001b[39;00m\u001b[38;5;124m\"\u001b[39m)\n\u001b[0;32m     39\u001b[0m \u001b[38;5;66;03m# Input usia pelanggan\u001b[39;00m\n\u001b[1;32m---> 40\u001b[0m usia_pelanggan \u001b[38;5;241m=\u001b[39m \u001b[38;5;28;43mint\u001b[39;49m\u001b[43m(\u001b[49m\u001b[38;5;28;43minput\u001b[39;49m\u001b[43m(\u001b[49m\u001b[38;5;124;43m\"\u001b[39;49m\u001b[38;5;124;43mMasukkan usia: \u001b[39;49m\u001b[38;5;124;43m\"\u001b[39;49m\u001b[43m)\u001b[49m\u001b[43m)\u001b[49m\n\u001b[0;32m     42\u001b[0m \u001b[38;5;66;03m# Panggil fungsi pembayaran dengan usia pelanggan\u001b[39;00m\n\u001b[0;32m     43\u001b[0m pembayaran(usia_pelanggan)\n",
      "\u001b[1;31mValueError\u001b[0m: invalid literal for int() with base 10: ''"
     ]
    }
   ],
   "source": [
    "def hitung_diskon(usia):\n",
    "    \"\"\"\n",
    "    Menghitung persentase diskon berdasarkan usia pelanggan.\n",
    "\n",
    "    Args:\n",
    "        usia (int): Usia pelanggan.\n",
    "\n",
    "    Returns:\n",
    "        float: Persentase diskon (misalnya, 0.05 untuk 5%), atau 0 jika tidak ada diskon.\n",
    "    \"\"\"\n",
    "    diskon = 0\n",
    "    if 18 <= usia <= 25:\n",
    "        diskon = 0.05  # Diskon 5%\n",
    "    elif 26 <= usia <= 35:\n",
    "        diskon = 0.10  # Diskon 10%\n",
    "    return diskon\n",
    "\n",
    "def pembayaran(usia):\n",
    "    \"\"\"\n",
    "    Menghitung total pembayaran setelah menerapkan diskon berdasarkan usia.\n",
    "\n",
    "    Args:\n",
    "        usia (int): Usia pelanggan.\n",
    "    \"\"\"\n",
    "    daftar_barang = [\"sabun\", \"baju\", \"buku\"]\n",
    "    harga = [1000, 2000, 500]\n",
    "    total = 0\n",
    "\n",
    "    persentase_diskon = hitung_diskon(usia)\n",
    "    print(f\"Persentase Diskon: {persentase_diskon * 100}%\")\n",
    "\n",
    "    for i in range(len(daftar_barang)):\n",
    "        harga_setelah_diskon = harga[i] * (1 - persentase_diskon)\n",
    "        total += harga_setelah_diskon\n",
    "        print(f\"{daftar_barang[i]}: Rp {harga_setelah_diskon:.0f}\")\n",
    "\n",
    "    print(f\"Total Pembayaran: Rp {total:.0f}\")\n",
    "\n",
    "# Input usia pelanggan\n",
    "usia_pelanggan = int(input(\"Masukkan usia: \"))\n",
    "\n",
    "# Panggil fungsi pembayaran dengan usia pelanggan\n",
    "pembayaran(usia_pelanggan)"
   ]
  },
  {
   "cell_type": "markdown",
   "id": "349e6e94",
   "metadata": {},
   "source": [
    "### Looping"
   ]
  },
  {
   "cell_type": "code",
   "execution_count": null,
   "id": "85760f46",
   "metadata": {},
   "outputs": [
    {
     "name": "stdout",
     "output_type": "stream",
     "text": [
      "Total harga: Rp43,000\n",
      "Buku saya\n"
     ]
    }
   ],
   "source": [
    "daftar_harga = [15_000, 20_000, 8_000]\n",
    "total = 0\n",
    "\n",
    "for harga in daftar_harga:\n",
    "    total += harga  # Menghitung total harga\n",
    "\n",
    "print(f\"Total harga: Rp{total:,}\")\n",
    "\n",
    "teks = \"Buku\"\n",
    "teks += \" saya\"\n",
    "print(teks)"
   ]
  },
  {
   "cell_type": "markdown",
   "id": "e78c4447",
   "metadata": {},
   "source": [
    "### fungsi range"
   ]
  },
  {
   "cell_type": "code",
   "execution_count": null,
   "id": "7513f1a7",
   "metadata": {},
   "outputs": [
    {
     "name": "stdout",
     "output_type": "stream",
     "text": [
      "{0}\n",
      "{1}\n",
      "{2}\n",
      "{3}\n",
      "{4}\n",
      "{5}\n",
      "{6}\n",
      "{7}\n",
      "{8}\n",
      "{9}\n",
      "1\n",
      "3\n",
      "5\n",
      "3\n"
     ]
    }
   ],
   "source": [
    "\n",
    "for i in range (0,10):\n",
    "    print({i})\n",
    "\n",
    "for i in range (1, 7, 2) : # akan melakukan iterasi setiap 2 angka atau lompat dua angka\n",
    "    print(i)\n",
    "\n",
    "x = range(1,15)\n",
    "indeks_kedua = x[2]\n",
    "print(indeks_kedua) # akan menampilkan angka 3"
   ]
  },
  {
   "cell_type": "markdown",
   "id": "aeada89d",
   "metadata": {},
   "source": [
    "### Loop bersarang atau nested loop"
   ]
  },
  {
   "cell_type": "code",
   "execution_count": null,
   "id": "f54d84f2",
   "metadata": {},
   "outputs": [
    {
     "name": "stdout",
     "output_type": "stream",
     "text": [
      "(0, 0) (0, 1) (0, 2) \n",
      "(1, 0) (1, 1) (1, 2) \n",
      "(2, 0) (2, 1) (2, 2) \n"
     ]
    }
   ],
   "source": [
    "# Membuat matriks 3x3\n",
    "for baris in range(3):\n",
    "    for kolom in range(3):\n",
    "        print(f\"({baris}, {kolom})\", end=\" \")\n",
    "    print()  # New line"
   ]
  },
  {
   "cell_type": "markdown",
   "id": "580ded71",
   "metadata": {},
   "source": [
    "## LATIHAN\n",
    "## level 1 : Dasar\n",
    "\n",
    "Hitung BMI (Body Mass Index) dan tentukan kategori :\n",
    "* BMI < 18.5 = \"Underweight\"\n",
    "* 18.5 <= BMI >= 25 = \"Normal\"\n",
    "* BMI >= 30 = \"Overweight\"\n",
    "\n",
    "input :\n",
    "berat = 79 kg\n",
    "tinggi = 1.75 m"
   ]
  },
  {
   "cell_type": "code",
   "execution_count": null,
   "id": "6cb8a4df",
   "metadata": {},
   "outputs": [
    {
     "name": "stdout",
     "output_type": "stream",
     "text": [
      "80.0\n",
      "90.0\n",
      "Kategori: Normal\n",
      "22.857142857142858\n"
     ]
    }
   ],
   "source": [
    "def BodyMassIndex(berat, tinggi):\n",
    "\n",
    "\n",
    "    if bmi < 18.5:\n",
    "        kategori = \"Underweight\"\n",
    "    elif 18.5 <= bmi < 25:\n",
    "        kategori = \"Normal\"\n",
    "    else:\n",
    "        kategori = \"Overweight\"\n",
    "    \n",
    "    print(f\"Kategori: {kategori}\")\n",
    "    return bmi  #\n",
    "    \n",
    "beratsaya = float(input(\"masukkan berat (kg) : \"))\n",
    "print(beratsaya)\n",
    "tinggisaya = float(input(\"masukkan tinggi (m): \"))\n",
    "print(tinggisaya)\n",
    "print(BodyMassIndex(beratsaya, tinggisaya))\n",
    "\n",
    "\n"
   ]
  },
  {
   "cell_type": "markdown",
   "id": "f02ad806",
   "metadata": {},
   "source": [
    "## Level 2: Loop Sederhana\n",
    "Soal 2: Hitung Total Nilai Positif\n",
    "Hitung total nilai positif dari sebuah list (abaikan negatif)."
   ]
  },
  {
   "cell_type": "code",
   "execution_count": null,
   "id": "2e8d3032",
   "metadata": {},
   "outputs": [
    {
     "name": "stdout",
     "output_type": "stream",
     "text": [
      "23\n"
     ]
    }
   ],
   "source": [
    "\n",
    "listsaya = [1,3,-4,-4,9,0,10]\n",
    "total = 0\n",
    "for i in listsaya:\n",
    "    \n",
    "        if i > 0 :\n",
    "            total += i\n",
    "print(total)\n"
   ]
  },
  {
   "cell_type": "markdown",
   "id": "e7338515",
   "metadata": {},
   "source": [
    "### Level 3: Analisis Data Sederhana\n",
    "Soal 3: Kategorikan Produk Berdasarkan Stok\n",
    "Stok = 0 → \"Habis\"\n",
    "\n",
    "0 < Stok ≤ 5 → \"Hampir Habis\"\n",
    "\n",
    "Stok > 5 → \"Aman\""
   ]
  },
  {
   "cell_type": "code",
   "execution_count": null,
   "id": "8763c661",
   "metadata": {},
   "outputs": [
    {
     "name": "stdout",
     "output_type": "stream",
     "text": [
      "Daftar Produk Tersedia:\n",
      "- laptop: 10 stok\n",
      "- pulpen: 5 stok\n",
      "- pensil: 0 stok\n",
      "\n",
      "Masukkan nama produk dan jumlah pesanan (atau 'selesai' untuk keluar)\n",
      "Produk tidak tersedia\n",
      "\n",
      "Stok Terkini:\n",
      "- laptop: 10 stok\n",
      "- pulpen: 5 stok\n",
      "- pensil: 0 stok\n",
      "\n",
      "Masukkan nama produk dan jumlah pesanan (atau 'selesai' untuk keluar)\n",
      "Masukkan jumlah yang valid!\n",
      "\n",
      "Stok Terkini:\n",
      "- laptop: 10 stok\n",
      "- pulpen: 5 stok\n",
      "- pensil: 0 stok\n",
      "\n",
      "Masukkan nama produk dan jumlah pesanan (atau 'selesai' untuk keluar)\n"
     ]
    }
   ],
   "source": [
    "# Data stok produk\n",
    "produk = {\n",
    "    \"laptop\": 10,\n",
    "    \"pulpen\": 5,\n",
    "    \"pensil\": 0\n",
    "}\n",
    "\n",
    "# Fungsi untuk mengecek stok\n",
    "def cek_stok(nama_produk, jumlah_pesanan):\n",
    "    if nama_produk not in produk:\n",
    "        return \"Produk tidak tersedia\"\n",
    "    \n",
    "    stok = produk[nama_produk]\n",
    "    \n",
    "    if stok == 0:\n",
    "        return \"Maaf, stok habis\"\n",
    "    elif jumlah_pesanan > stok:\n",
    "        return f\"Maaf, stok tidak mencukupi. Stok tersedia: {stok}\"\n",
    "    else:\n",
    "        # Jika stok mencukupi, kurangi stok\n",
    "        produk[nama_produk] -= jumlah_pesanan\n",
    "        return f\"Pesanan berhasil! Stok {nama_produk} tersisa: {produk[nama_produk]}\"\n",
    "\n",
    "# Program utama\n",
    "print(\"Daftar Produk Tersedia:\")\n",
    "for item, stok in produk.items():\n",
    "    print(f\"- {item}: {stok} stok\")\n",
    "\n",
    "while True:\n",
    "    print(\"\\nMasukkan nama produk dan jumlah pesanan (atau 'selesai' untuk keluar)\")\n",
    "    nama = input(\"Nama Produk: \")\n",
    "    \n",
    "    if nama.lower() == 'selesai':\n",
    "        break\n",
    "    \n",
    "    try:\n",
    "        jumlah = int(input(\"Jumlah Pesanan: \"))\n",
    "        hasil = cek_stok(nama, jumlah)\n",
    "        print(hasil)\n",
    "    except ValueError:\n",
    "        print(\"Masukkan jumlah yang valid!\")\n",
    "    \n",
    "    # Tampilkan stok terbaru\n",
    "    print(\"\\nStok Terkini:\")\n",
    "    for item, stok in produk.items():\n",
    "        print(f\"- {item}: {stok} stok\")\n",
    "\n",
    "print(\"Terima kasih telah berbelanja!\")"
   ]
  },
  {
   "cell_type": "markdown",
   "id": "a79b3d50",
   "metadata": {},
   "source": [
    "### LATIHAN MUDAH\n",
    "#### KASUS 1\n",
    "TOKO SEMBAKO\n",
    "\n",
    "Buat program untuk toko sembako sedehrana dengan fitur : \n",
    "* Cek stok\n",
    "* Pesan barang\n",
    "* keluar\n"
   ]
  },
  {
   "cell_type": "code",
   "execution_count": null,
   "id": "30f763e6",
   "metadata": {},
   "outputs": [
    {
     "name": "stdout",
     "output_type": "stream",
     "text": [
      "Daftar produk dan stok:\n",
      "Produk: Beras, Stok: 50\n",
      "Produk: Minyak, Stok: 20\n",
      "Produk: Gula, Stok: 30\n",
      "Produk: Garam, Stok: 0\n",
      "\n",
      "Masukkan nama produk dan jumlah pesanan Anda (atau 'selesai' untuk keluar)\n",
      "Produk tidak tersedia\n",
      "\n",
      "Stok Terkini:\n",
      "- Beras: 50 stok\n",
      "- Minyak: 20 stok\n",
      "- Gula: 30 stok\n",
      "- Garam: 0 stok\n",
      "\n",
      "Masukkan nama produk dan jumlah pesanan Anda (atau 'selesai' untuk keluar)\n"
     ]
    }
   ],
   "source": [
    "produk = {\n",
    "    \"Beras\": 50,\n",
    "    \"Minyak\": 20,\n",
    "    \"Gula\": 30,\n",
    "    \"Garam\": 0\n",
    "}\n",
    "\n",
    "print(\"Daftar produk dan stok:\")\n",
    "for item, stok in produk.items():  # Removed extra space before .items()\n",
    "    print(f\"Produk: {item}, Stok: {stok}\")  # Fixed colon consistency\n",
    "\n",
    "def cek_stok(nama_produk, jumlah_pesanan):\n",
    "    if nama_produk not in produk:\n",
    "        return \"Produk tidak tersedia\"\n",
    "    \n",
    "    stok = produk[nama_produk]\n",
    "    \n",
    "    if stok == 0:\n",
    "        return \"Maaf, stok habis\"\n",
    "    elif jumlah_pesanan > stok:\n",
    "        return f\"Maaf, stok tidak mencukupi. Stok tersedia: {stok}\"\n",
    "    else:\n",
    "        # Jika stok mencukupi, kurangi stok\n",
    "        produk[nama_produk] -= jumlah_pesanan\n",
    "        return f\"Pesanan berhasil! Stok {nama_produk} tersisa: {produk[nama_produk]}\"\n",
    "\n",
    "while True:\n",
    "    print(\"\\nMasukkan nama produk dan jumlah pesanan Anda (atau 'selesai' untuk keluar)\")\n",
    "    nama = input(\"Nama Produk: \")  # Added colon for consistency\n",
    "    if nama.lower() == \"selesai\":\n",
    "        break\n",
    "\n",
    "    try:\n",
    "        jumlah = int(input(\"Jumlah Pesanan: \"))\n",
    "        hasil = cek_stok(nama, jumlah)\n",
    "        print(hasil)\n",
    "    except ValueError:\n",
    "        print(\"Masukkan jumlah yang valid!\")\n",
    "    \n",
    "    # Tampilkan stok terbaru\n",
    "    print(\"\\nStok Terkini:\")\n",
    "    for item, stok in produk.items():\n",
    "        print(f\"- {item}: {stok} stok\")\n",
    "\n",
    "print(\"Terima kasih telah berbelanja!\")"
   ]
  },
  {
   "cell_type": "markdown",
   "id": "ef19268c",
   "metadata": {},
   "source": [
    "### KASUS 2\n",
    "#### TOKO SLST TULIS\n",
    " * Cek stok\n",
    " * Pesan barang\n",
    " * Restok (tambah stok)\n",
    " * Keluar\n",
    "\n",
    " Fitur Wajib:\n",
    "\n",
    "Kategorikan stok:\n",
    "\n",
    "Stok = 0 → \"Habis\"\n",
    "\n",
    "0 < Stok ≤ 5 → \"Hampir Habis\"\n",
    "\n",
    "Stok > 5 → \"Aman\"\n",
    "\n",
    "Fitur restok (admin bisa menambah stok).\n",
    "\n",
    "Validasi input (nama produk harus ada di database)."
   ]
  },
  {
   "cell_type": "code",
   "execution_count": 5,
   "id": "257b4e0b",
   "metadata": {},
   "outputs": [
    {
     "name": "stdout",
     "output_type": "stream",
     "text": [
      "Daftar produk\n",
      "Produk :pensil, Stok :10\n",
      "Produk :buku, Stok :15\n",
      "Produk :penghapus, Stok :0\n",
      "Produk :penggaris, Stok :5\n",
      "Pesanan berhasil! Stok buku tersisa: 5\n"
     ]
    }
   ],
   "source": [
    "produk = {\n",
    " \"pensil\" : 10,\n",
    " \"buku\" : 15,\n",
    " \"penghapus\" : 0,\n",
    " \"penggaris\" : 5\n",
    "}\n",
    "\n",
    "print(\"Daftar produk\")\n",
    "for nama,stok in produk.items():\n",
    "    print(f\"Produk :{nama}, Stok :{stok}\")\n",
    "\n",
    "def pesan_barang(namabarang,jumlah) :\n",
    "    if namabarang not in produk :\n",
    "        return \"Barang tidak ada\"\n",
    "    \n",
    "    stok = produk[namabarang]\n",
    "    if stok == 0 :\n",
    "        return \"Baran Habis\"\n",
    "    elif stok < jumlah :\n",
    "        return \"Jumlah barang tidak cukup, stok tersedia {stok}\"\n",
    "    else :\n",
    "        produk[namabarang] -= jumlah\n",
    "        return f\"Pesanan berhasil! Stok {namabarang} tersisa: {produk[namabarang]}\"\n",
    "    \n",
    "pesanan = input(\"Nama Barang :\")\n",
    "jumlahbarang = int(input(\"Jumlah :\"))\n",
    "\n",
    "\n",
    "print(pesan_barang(pesanan,jumlahbarang))"
   ]
  },
  {
   "cell_type": "code",
   "execution_count": 4,
   "id": "52641e6a",
   "metadata": {},
   "outputs": [
    {
     "name": "stdout",
     "output_type": "stream",
     "text": [
      "Daftar Barang\n",
      "Baranag : BAJU, Jumlah : 40\n",
      "Baranag : Celana, Jumlah : 50\n",
      "Baranag : Daster, Jumlah : 20\n",
      "BAJU berhasil di pesan sebanyak 40, terisisa 0\n"
     ]
    }
   ],
   "source": [
    "toko = {\n",
    "    \"BAJU\" : 40,\n",
    "    \"Celana\" : 50,\n",
    "    \"Daster\" : 20 \n",
    "}\n",
    "\n",
    "print(\"Daftar Barang\")\n",
    "for namabarang, stok in toko.items():\n",
    "    print(f\"Baranag : {namabarang}, Jumlah : {stok}\")\n",
    "\n",
    "\n",
    "def pesanbarang(barang,jumlah) :\n",
    "    stok = toko[barang] \n",
    "    if stok == 0 :\n",
    "        return \"Barang kosong\"\n",
    "    elif stok < jumlah :\n",
    "        return f\"{barang} tidak cukup stok\"\n",
    "    else :\n",
    "        toko[namabarang] = stok - jumlah\n",
    "        return f\"{barang} berhasil di pesan sebanyak {jumlah}, terisisa {stok - jumlah}\"\n",
    "nama = input(\"Masukkan nama :\")\n",
    "jumlahh = int(input(\"Masukkan jumlah barang :\"))\n",
    "print(pesanbarang(nama,jumlahh))\n",
    "    "
   ]
  },
  {
   "cell_type": "code",
   "execution_count": null,
   "id": "3cd628f2",
   "metadata": {},
   "outputs": [
    {
     "name": "stdout",
     "output_type": "stream",
     "text": [
      "Daftar Produk\n",
      "Pensil : 10\n",
      "Produk Cukup\n",
      "Buku : 15\n",
      "Produk Cukup\n",
      "Penghapus : 0\n",
      "Produk Habis\n",
      "Penggaris : 5\n"
     ]
    }
   ],
   "source": [
    "produk = {\n",
    "    \"Pensil\": 10,\n",
    "    \"Buku\": 15,\n",
    "    \"Penghapus\": 0,\n",
    "    \"Penggaris\": 5\n",
    "}\n",
    "\n",
    "print(\"Daftar Produk\")\n",
    "for nanmaproduk, stok in produk.items():\n",
    "    print(f\"{nanmaproduk} : {stok}\")\n",
    "\n",
    "    if stok == 0:\n",
    "        print(\"Produk Habis\")\n",
    "    elif 0 < stok < 5:\n",
    "        print(\"Hampir Habis\")\n",
    "    elif stok > 5:\n",
    "        print(\"Produk Cukup\")\n",
    "\n",
    "def pesanan(namapesanan, jumlahpesanan):\n",
    "    if namapesanan not in produk:\n",
    "        print(\"Produk tidak tersedia\")\n",
    "        return\n",
    "\n",
    "    stok = produk[namapesanan]\n",
    "    if stok == 0:\n",
    "        return \"Produk Habis\"\n",
    "    elif stok < jumlahpesanan:\n",
    "        return \"Produk tidak cukup\"\n",
    "    else:\n",
    "        produk[namapesanan] -= jumlahpesanan\n",
    "        return f\"Produk {namapesanan} telah dipesan sebanyak {jumlahpesanan}\"\n",
    "\n",
    "def tambah_stok(nama_produk, jumlah):\n",
    "    if nama_produk in produk:\n",
    "        produk[nama_produk] += jumlah\n",
    "        print(f\"Stok {nama_produk} telah ditambahkan sebanyak {jumlah}\")\n",
    "    else:\n",
    "        print(\"Produk tidak ditemukan.\")\n",
    "\n",
    "def aksi():\n",
    "    while True:\n",
    "        pilihan = input(\"Apa yang ingin Anda lakukan? \\n 1. Pesan \\n 2. Tambah Stok \\n 3. Keluar\\nMasukkan pilihan (1/2/3): \")\n",
    "        if pilihan == \"1\":\n",
    "            print(\"\\nPesanan\")\n",
    "            pesan = input(\"Masukkan nama produk yang ingin dipesan : \")\n",
    "            try:\n",
    "                banyak_pesanan = int(input(\"Masukkan banyak pesanan Anda : \"))\n",
    "                hasil_pesanan = pesanan(pesan, banyak_pesanan)\n",
    "                if hasil_pesanan:\n",
    "                    print(hasil_pesanan)\n",
    "            except ValueError:\n",
    "                print(\"Masukkan jumlah pesanan dalam angka.\")\n",
    "        elif pilihan == \"2\":\n",
    "            print(\"\\nRestok\")\n",
    "            nama_produk = input(\"Masukkan nama produk yang ingin ditambahkan stoknya : \")\n",
    "            try:\n",
    "                jumlah = int(input(\"Masukkan jumlah stok yang ingin ditambahkan : \"))\n",
    "                tambah_stok(nama_produk, jumlah)\n",
    "            except ValueError:\n",
    "                print(\"Masukkan jumlah stok dalam angka.\")\n",
    "        elif pilihan == \"3\":\n",
    "            print(\"Terima kasih telah menggunakan program ini\")\n",
    "            break\n",
    "        else:\n",
    "            print(\"Pilihan tidak valid. Silakan masukkan 1, 2, atau 3.\")\n",
    "\n",
    "# Panggil fungsi aksi untuk memulai interaksi\n",
    "aksi()"
   ]
  }
 ],
 "metadata": {
  "kernelspec": {
   "display_name": "Python 3",
   "language": "python",
   "name": "python3"
  },
  "language_info": {
   "codemirror_mode": {
    "name": "ipython",
    "version": 3
   },
   "file_extension": ".py",
   "mimetype": "text/x-python",
   "name": "python",
   "nbconvert_exporter": "python",
   "pygments_lexer": "ipython3",
   "version": "3.12.5"
  }
 },
 "nbformat": 4,
 "nbformat_minor": 5
}
